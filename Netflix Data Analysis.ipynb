{
 "cells": [
  {
   "cell_type": "code",
   "execution_count": 28,
   "metadata": {},
   "outputs": [],
   "source": [
    "import pandas as pd"
   ]
  },
  {
   "cell_type": "code",
   "execution_count": 29,
   "metadata": {},
   "outputs": [],
   "source": [
    "df=pd.read_csv(\"C:/A/ViewingActivity-sample.csv\")"
   ]
  },
  {
   "cell_type": "code",
   "execution_count": 30,
   "metadata": {},
   "outputs": [
    {
     "data": {
      "text/html": [
       "<div>\n",
       "<style scoped>\n",
       "    .dataframe tbody tr th:only-of-type {\n",
       "        vertical-align: middle;\n",
       "    }\n",
       "\n",
       "    .dataframe tbody tr th {\n",
       "        vertical-align: top;\n",
       "    }\n",
       "\n",
       "    .dataframe thead th {\n",
       "        text-align: right;\n",
       "    }\n",
       "</style>\n",
       "<table border=\"1\" class=\"dataframe\">\n",
       "  <thead>\n",
       "    <tr style=\"text-align: right;\">\n",
       "      <th></th>\n",
       "      <th>Profile Name</th>\n",
       "      <th>Start Time</th>\n",
       "      <th>Duration</th>\n",
       "      <th>Attributes</th>\n",
       "      <th>Title</th>\n",
       "      <th>Supplemental Video Type</th>\n",
       "      <th>Device Type</th>\n",
       "      <th>Bookmark</th>\n",
       "      <th>Latest Bookmark</th>\n",
       "      <th>Country</th>\n",
       "    </tr>\n",
       "  </thead>\n",
       "  <tbody>\n",
       "    <tr>\n",
       "      <th>0</th>\n",
       "      <td>Charlie</td>\n",
       "      <td>2013-03-20 5:17:53</td>\n",
       "      <td>0:00:05</td>\n",
       "      <td>NaN</td>\n",
       "      <td>Star Trek: Deep Space Nine: Season 5: Empok No...</td>\n",
       "      <td>NaN</td>\n",
       "      <td>Mac</td>\n",
       "      <td>0:00:05</td>\n",
       "      <td>Not latest view</td>\n",
       "      <td>US (United States)</td>\n",
       "    </tr>\n",
       "    <tr>\n",
       "      <th>1</th>\n",
       "      <td>Charlie</td>\n",
       "      <td>2013-03-20 4:27:45</td>\n",
       "      <td>0:44:31</td>\n",
       "      <td>NaN</td>\n",
       "      <td>Star Trek: Deep Space Nine: Season 5: Blaze of...</td>\n",
       "      <td>NaN</td>\n",
       "      <td>Mac</td>\n",
       "      <td>0:44:31</td>\n",
       "      <td>Not latest view</td>\n",
       "      <td>US (United States)</td>\n",
       "    </tr>\n",
       "    <tr>\n",
       "      <th>2</th>\n",
       "      <td>Charlie</td>\n",
       "      <td>2013-03-20 4:05:21</td>\n",
       "      <td>0:22:06</td>\n",
       "      <td>NaN</td>\n",
       "      <td>Star Trek: Deep Space Nine: Season 5: Children...</td>\n",
       "      <td>NaN</td>\n",
       "      <td>Mac</td>\n",
       "      <td>0:44:37</td>\n",
       "      <td>0:44:37</td>\n",
       "      <td>US (United States)</td>\n",
       "    </tr>\n",
       "    <tr>\n",
       "      <th>3</th>\n",
       "      <td>Charlie</td>\n",
       "      <td>2013-03-20 0:20:03</td>\n",
       "      <td>0:48:14</td>\n",
       "      <td>NaN</td>\n",
       "      <td>The Invisible War</td>\n",
       "      <td>NaN</td>\n",
       "      <td>Microsoft Xbox 360</td>\n",
       "      <td>0:53:18</td>\n",
       "      <td>0:53:18</td>\n",
       "      <td>US (United States)</td>\n",
       "    </tr>\n",
       "    <tr>\n",
       "      <th>4</th>\n",
       "      <td>Charlie</td>\n",
       "      <td>2013-03-20 0:10:31</td>\n",
       "      <td>0:04:51</td>\n",
       "      <td>NaN</td>\n",
       "      <td>The Invisible War</td>\n",
       "      <td>NaN</td>\n",
       "      <td>Mac</td>\n",
       "      <td>0:05:01</td>\n",
       "      <td>Not latest view</td>\n",
       "      <td>US (United States)</td>\n",
       "    </tr>\n",
       "    <tr>\n",
       "      <th>...</th>\n",
       "      <td>...</td>\n",
       "      <td>...</td>\n",
       "      <td>...</td>\n",
       "      <td>...</td>\n",
       "      <td>...</td>\n",
       "      <td>...</td>\n",
       "      <td>...</td>\n",
       "      <td>...</td>\n",
       "      <td>...</td>\n",
       "      <td>...</td>\n",
       "    </tr>\n",
       "    <tr>\n",
       "      <th>195</th>\n",
       "      <td>Charlie</td>\n",
       "      <td>2013-03-02 0:45:12</td>\n",
       "      <td>0:05:18</td>\n",
       "      <td>NaN</td>\n",
       "      <td>Star Trek: Deep Space Nine: Season 4: Body Par...</td>\n",
       "      <td>NaN</td>\n",
       "      <td>Mac</td>\n",
       "      <td>0:27:16</td>\n",
       "      <td>Not latest view</td>\n",
       "      <td>US (United States)</td>\n",
       "    </tr>\n",
       "    <tr>\n",
       "      <th>196</th>\n",
       "      <td>Charlie</td>\n",
       "      <td>2013-03-01 23:46:16</td>\n",
       "      <td>0:58:12</td>\n",
       "      <td>NaN</td>\n",
       "      <td>Louis C.K.: Live at the Beacon Theater</td>\n",
       "      <td>NaN</td>\n",
       "      <td>Mac</td>\n",
       "      <td>1:01:37</td>\n",
       "      <td>Not latest view</td>\n",
       "      <td>US (United States)</td>\n",
       "    </tr>\n",
       "    <tr>\n",
       "      <th>197</th>\n",
       "      <td>Charlie</td>\n",
       "      <td>2013-03-01 23:21:19</td>\n",
       "      <td>0:21:59</td>\n",
       "      <td>NaN</td>\n",
       "      <td>Star Trek: Deep Space Nine: Season 4: Body Par...</td>\n",
       "      <td>NaN</td>\n",
       "      <td>Mac</td>\n",
       "      <td>0:22:01</td>\n",
       "      <td>Not latest view</td>\n",
       "      <td>US (United States)</td>\n",
       "    </tr>\n",
       "    <tr>\n",
       "      <th>198</th>\n",
       "      <td>Charlie</td>\n",
       "      <td>2013-03-01 22:36:48</td>\n",
       "      <td>0:44:26</td>\n",
       "      <td>NaN</td>\n",
       "      <td>Star Trek: Deep Space Nine: Season 4: The Quic...</td>\n",
       "      <td>NaN</td>\n",
       "      <td>Mac</td>\n",
       "      <td>0:44:28</td>\n",
       "      <td>0:44:28</td>\n",
       "      <td>US (United States)</td>\n",
       "    </tr>\n",
       "    <tr>\n",
       "      <th>199</th>\n",
       "      <td>Charlie</td>\n",
       "      <td>2013-03-01 20:47:09</td>\n",
       "      <td>0:43:48</td>\n",
       "      <td>NaN</td>\n",
       "      <td>Star Trek: Deep Space Nine: Season 4: To the D...</td>\n",
       "      <td>NaN</td>\n",
       "      <td>Mac</td>\n",
       "      <td>0:43:48</td>\n",
       "      <td>0:43:48</td>\n",
       "      <td>US (United States)</td>\n",
       "    </tr>\n",
       "  </tbody>\n",
       "</table>\n",
       "<p>200 rows × 10 columns</p>\n",
       "</div>"
      ],
      "text/plain": [
       "    Profile Name           Start Time Duration  Attributes  \\\n",
       "0        Charlie   2013-03-20 5:17:53  0:00:05         NaN   \n",
       "1        Charlie   2013-03-20 4:27:45  0:44:31         NaN   \n",
       "2        Charlie   2013-03-20 4:05:21  0:22:06         NaN   \n",
       "3        Charlie   2013-03-20 0:20:03  0:48:14         NaN   \n",
       "4        Charlie   2013-03-20 0:10:31  0:04:51         NaN   \n",
       "..           ...                  ...      ...         ...   \n",
       "195      Charlie   2013-03-02 0:45:12  0:05:18         NaN   \n",
       "196      Charlie  2013-03-01 23:46:16  0:58:12         NaN   \n",
       "197      Charlie  2013-03-01 23:21:19  0:21:59         NaN   \n",
       "198      Charlie  2013-03-01 22:36:48  0:44:26         NaN   \n",
       "199      Charlie  2013-03-01 20:47:09  0:43:48         NaN   \n",
       "\n",
       "                                                 Title  \\\n",
       "0    Star Trek: Deep Space Nine: Season 5: Empok No...   \n",
       "1    Star Trek: Deep Space Nine: Season 5: Blaze of...   \n",
       "2    Star Trek: Deep Space Nine: Season 5: Children...   \n",
       "3                                    The Invisible War   \n",
       "4                                    The Invisible War   \n",
       "..                                                 ...   \n",
       "195  Star Trek: Deep Space Nine: Season 4: Body Par...   \n",
       "196             Louis C.K.: Live at the Beacon Theater   \n",
       "197  Star Trek: Deep Space Nine: Season 4: Body Par...   \n",
       "198  Star Trek: Deep Space Nine: Season 4: The Quic...   \n",
       "199  Star Trek: Deep Space Nine: Season 4: To the D...   \n",
       "\n",
       "     Supplemental Video Type         Device Type Bookmark  Latest Bookmark  \\\n",
       "0                        NaN                 Mac  0:00:05  Not latest view   \n",
       "1                        NaN                 Mac  0:44:31  Not latest view   \n",
       "2                        NaN                 Mac  0:44:37          0:44:37   \n",
       "3                        NaN  Microsoft Xbox 360  0:53:18          0:53:18   \n",
       "4                        NaN                 Mac  0:05:01  Not latest view   \n",
       "..                       ...                 ...      ...              ...   \n",
       "195                      NaN                 Mac  0:27:16  Not latest view   \n",
       "196                      NaN                 Mac  1:01:37  Not latest view   \n",
       "197                      NaN                 Mac  0:22:01  Not latest view   \n",
       "198                      NaN                 Mac  0:44:28          0:44:28   \n",
       "199                      NaN                 Mac  0:43:48          0:43:48   \n",
       "\n",
       "                Country  \n",
       "0    US (United States)  \n",
       "1    US (United States)  \n",
       "2    US (United States)  \n",
       "3    US (United States)  \n",
       "4    US (United States)  \n",
       "..                  ...  \n",
       "195  US (United States)  \n",
       "196  US (United States)  \n",
       "197  US (United States)  \n",
       "198  US (United States)  \n",
       "199  US (United States)  \n",
       "\n",
       "[200 rows x 10 columns]"
      ]
     },
     "execution_count": 30,
     "metadata": {},
     "output_type": "execute_result"
    }
   ],
   "source": [
    "df"
   ]
  },
  {
   "cell_type": "code",
   "execution_count": 31,
   "metadata": {},
   "outputs": [
    {
     "data": {
      "text/plain": [
       "(200, 10)"
      ]
     },
     "execution_count": 31,
     "metadata": {},
     "output_type": "execute_result"
    }
   ],
   "source": [
    "df.shape"
   ]
  },
  {
   "cell_type": "code",
   "execution_count": 32,
   "metadata": {},
   "outputs": [
    {
     "data": {
      "text/html": [
       "<div>\n",
       "<style scoped>\n",
       "    .dataframe tbody tr th:only-of-type {\n",
       "        vertical-align: middle;\n",
       "    }\n",
       "\n",
       "    .dataframe tbody tr th {\n",
       "        vertical-align: top;\n",
       "    }\n",
       "\n",
       "    .dataframe thead th {\n",
       "        text-align: right;\n",
       "    }\n",
       "</style>\n",
       "<table border=\"1\" class=\"dataframe\">\n",
       "  <thead>\n",
       "    <tr style=\"text-align: right;\">\n",
       "      <th></th>\n",
       "      <th>Start Time</th>\n",
       "      <th>Duration</th>\n",
       "      <th>Title</th>\n",
       "    </tr>\n",
       "  </thead>\n",
       "  <tbody>\n",
       "    <tr>\n",
       "      <th>0</th>\n",
       "      <td>2013-03-20 5:17:53</td>\n",
       "      <td>0:00:05</td>\n",
       "      <td>Star Trek: Deep Space Nine: Season 5: Empok No...</td>\n",
       "    </tr>\n",
       "    <tr>\n",
       "      <th>1</th>\n",
       "      <td>2013-03-20 4:27:45</td>\n",
       "      <td>0:44:31</td>\n",
       "      <td>Star Trek: Deep Space Nine: Season 5: Blaze of...</td>\n",
       "    </tr>\n",
       "    <tr>\n",
       "      <th>2</th>\n",
       "      <td>2013-03-20 4:05:21</td>\n",
       "      <td>0:22:06</td>\n",
       "      <td>Star Trek: Deep Space Nine: Season 5: Children...</td>\n",
       "    </tr>\n",
       "    <tr>\n",
       "      <th>3</th>\n",
       "      <td>2013-03-20 0:20:03</td>\n",
       "      <td>0:48:14</td>\n",
       "      <td>The Invisible War</td>\n",
       "    </tr>\n",
       "    <tr>\n",
       "      <th>4</th>\n",
       "      <td>2013-03-20 0:10:31</td>\n",
       "      <td>0:04:51</td>\n",
       "      <td>The Invisible War</td>\n",
       "    </tr>\n",
       "  </tbody>\n",
       "</table>\n",
       "</div>"
      ],
      "text/plain": [
       "           Start Time Duration  \\\n",
       "0  2013-03-20 5:17:53  0:00:05   \n",
       "1  2013-03-20 4:27:45  0:44:31   \n",
       "2  2013-03-20 4:05:21  0:22:06   \n",
       "3  2013-03-20 0:20:03  0:48:14   \n",
       "4  2013-03-20 0:10:31  0:04:51   \n",
       "\n",
       "                                               Title  \n",
       "0  Star Trek: Deep Space Nine: Season 5: Empok No...  \n",
       "1  Star Trek: Deep Space Nine: Season 5: Blaze of...  \n",
       "2  Star Trek: Deep Space Nine: Season 5: Children...  \n",
       "3                                  The Invisible War  \n",
       "4                                  The Invisible War  "
      ]
     },
     "execution_count": 32,
     "metadata": {},
     "output_type": "execute_result"
    }
   ],
   "source": [
    "df = df.drop(['Profile Name', 'Attributes', 'Supplemental Video Type', 'Device Type', 'Bookmark', 'Latest Bookmark', 'Country'], axis=1)\n",
    "df.head()"
   ]
  },
  {
   "cell_type": "code",
   "execution_count": 33,
   "metadata": {},
   "outputs": [
    {
     "data": {
      "text/plain": [
       "Start Time    object\n",
       "Duration      object\n",
       "Title         object\n",
       "dtype: object"
      ]
     },
     "execution_count": 33,
     "metadata": {},
     "output_type": "execute_result"
    }
   ],
   "source": [
    "df.dtypes"
   ]
  },
  {
   "cell_type": "code",
   "execution_count": 34,
   "metadata": {},
   "outputs": [
    {
     "data": {
      "text/plain": [
       "Start Time    datetime64[ns, UTC]\n",
       "Duration                   object\n",
       "Title                      object\n",
       "dtype: object"
      ]
     },
     "execution_count": 34,
     "metadata": {},
     "output_type": "execute_result"
    }
   ],
   "source": [
    "df['Start Time'] = pd.to_datetime(df['Start Time'], utc=True)\n",
    "df.dtypes"
   ]
  },
  {
   "cell_type": "code",
   "execution_count": 35,
   "metadata": {},
   "outputs": [],
   "source": [
    "df = df.set_index('Start Time')\n",
    "df.index = df.index.tz_convert('Asia/Kolkata')\n",
    "df = df.reset_index()"
   ]
  },
  {
   "cell_type": "code",
   "execution_count": 36,
   "metadata": {},
   "outputs": [
    {
     "data": {
      "text/plain": [
       "Start Time    datetime64[ns, Asia/Kolkata]\n",
       "Duration                   timedelta64[ns]\n",
       "Title                               object\n",
       "dtype: object"
      ]
     },
     "execution_count": 36,
     "metadata": {},
     "output_type": "execute_result"
    }
   ],
   "source": [
    "df['Duration'] = pd.to_timedelta(df['Duration'])\n",
    "df.dtypes"
   ]
  },
  {
   "cell_type": "markdown",
   "metadata": {},
   "source": [
    "### Analysis on a Single Series"
   ]
  },
  {
   "cell_type": "code",
   "execution_count": 37,
   "metadata": {},
   "outputs": [],
   "source": [
    "office = df[df['Title'].str.contains('The Office (U.S.)', regex=False)]"
   ]
  },
  {
   "cell_type": "code",
   "execution_count": 38,
   "metadata": {},
   "outputs": [
    {
     "data": {
      "text/html": [
       "<div>\n",
       "<style scoped>\n",
       "    .dataframe tbody tr th:only-of-type {\n",
       "        vertical-align: middle;\n",
       "    }\n",
       "\n",
       "    .dataframe tbody tr th {\n",
       "        vertical-align: top;\n",
       "    }\n",
       "\n",
       "    .dataframe thead th {\n",
       "        text-align: right;\n",
       "    }\n",
       "</style>\n",
       "<table border=\"1\" class=\"dataframe\">\n",
       "  <thead>\n",
       "    <tr style=\"text-align: right;\">\n",
       "      <th></th>\n",
       "      <th>Start Time</th>\n",
       "      <th>Duration</th>\n",
       "      <th>Title</th>\n",
       "    </tr>\n",
       "  </thead>\n",
       "  <tbody>\n",
       "    <tr>\n",
       "      <th>9</th>\n",
       "      <td>2013-03-19 04:55:36+05:30</td>\n",
       "      <td>0 days 00:00:02</td>\n",
       "      <td>The Office (U.S.): Season 5: The Duel (Episode...</td>\n",
       "    </tr>\n",
       "    <tr>\n",
       "      <th>10</th>\n",
       "      <td>2013-03-19 04:34:22+05:30</td>\n",
       "      <td>0 days 00:21:07</td>\n",
       "      <td>The Office (U.S.): Season 5: Moroccan Christma...</td>\n",
       "    </tr>\n",
       "    <tr>\n",
       "      <th>11</th>\n",
       "      <td>2013-03-19 04:12:50+05:30</td>\n",
       "      <td>0 days 00:21:30</td>\n",
       "      <td>The Office (U.S.): Season 5: The Surplus (Epis...</td>\n",
       "    </tr>\n",
       "    <tr>\n",
       "      <th>12</th>\n",
       "      <td>2013-03-19 03:51:52+05:30</td>\n",
       "      <td>0 days 00:20:55</td>\n",
       "      <td>The Office (U.S.): Season 5: Frame Toby (Episo...</td>\n",
       "    </tr>\n",
       "    <tr>\n",
       "      <th>13</th>\n",
       "      <td>2013-03-19 03:50:53+05:30</td>\n",
       "      <td>0 days 00:00:55</td>\n",
       "      <td>The Office (U.S.): Season 5: Business Trip (Ep...</td>\n",
       "    </tr>\n",
       "    <tr>\n",
       "      <th>...</th>\n",
       "      <td>...</td>\n",
       "      <td>...</td>\n",
       "      <td>...</td>\n",
       "    </tr>\n",
       "    <tr>\n",
       "      <th>152</th>\n",
       "      <td>2013-03-09 08:05:43+05:30</td>\n",
       "      <td>0 days 00:00:55</td>\n",
       "      <td>The Office (U.S.): Season 7: Andy's Play (Epis...</td>\n",
       "    </tr>\n",
       "    <tr>\n",
       "      <th>153</th>\n",
       "      <td>2013-03-09 06:22:42+05:30</td>\n",
       "      <td>0 days 00:20:44</td>\n",
       "      <td>The Office (U.S.): Season 7: Andy's Play (Epis...</td>\n",
       "    </tr>\n",
       "    <tr>\n",
       "      <th>154</th>\n",
       "      <td>2013-03-09 05:59:16+05:30</td>\n",
       "      <td>0 days 00:21:48</td>\n",
       "      <td>The Office (U.S.): Season 7: Counseling (Episo...</td>\n",
       "    </tr>\n",
       "    <tr>\n",
       "      <th>155</th>\n",
       "      <td>2013-03-09 05:15:38+05:30</td>\n",
       "      <td>0 days 00:21:48</td>\n",
       "      <td>The Office (U.S.): Season 7: Nepotism (Episode 1)</td>\n",
       "    </tr>\n",
       "    <tr>\n",
       "      <th>156</th>\n",
       "      <td>2013-03-09 04:53:26+05:30</td>\n",
       "      <td>0 days 00:21:12</td>\n",
       "      <td>The Office (U.S.): Season 5: The Duel (Episode...</td>\n",
       "    </tr>\n",
       "  </tbody>\n",
       "</table>\n",
       "<p>137 rows × 3 columns</p>\n",
       "</div>"
      ],
      "text/plain": [
       "                   Start Time        Duration  \\\n",
       "9   2013-03-19 04:55:36+05:30 0 days 00:00:02   \n",
       "10  2013-03-19 04:34:22+05:30 0 days 00:21:07   \n",
       "11  2013-03-19 04:12:50+05:30 0 days 00:21:30   \n",
       "12  2013-03-19 03:51:52+05:30 0 days 00:20:55   \n",
       "13  2013-03-19 03:50:53+05:30 0 days 00:00:55   \n",
       "..                        ...             ...   \n",
       "152 2013-03-09 08:05:43+05:30 0 days 00:00:55   \n",
       "153 2013-03-09 06:22:42+05:30 0 days 00:20:44   \n",
       "154 2013-03-09 05:59:16+05:30 0 days 00:21:48   \n",
       "155 2013-03-09 05:15:38+05:30 0 days 00:21:48   \n",
       "156 2013-03-09 04:53:26+05:30 0 days 00:21:12   \n",
       "\n",
       "                                                 Title  \n",
       "9    The Office (U.S.): Season 5: The Duel (Episode...  \n",
       "10   The Office (U.S.): Season 5: Moroccan Christma...  \n",
       "11   The Office (U.S.): Season 5: The Surplus (Epis...  \n",
       "12   The Office (U.S.): Season 5: Frame Toby (Episo...  \n",
       "13   The Office (U.S.): Season 5: Business Trip (Ep...  \n",
       "..                                                 ...  \n",
       "152  The Office (U.S.): Season 7: Andy's Play (Epis...  \n",
       "153  The Office (U.S.): Season 7: Andy's Play (Epis...  \n",
       "154  The Office (U.S.): Season 7: Counseling (Episo...  \n",
       "155  The Office (U.S.): Season 7: Nepotism (Episode 1)  \n",
       "156  The Office (U.S.): Season 5: The Duel (Episode...  \n",
       "\n",
       "[137 rows x 3 columns]"
      ]
     },
     "execution_count": 38,
     "metadata": {},
     "output_type": "execute_result"
    }
   ],
   "source": [
    "office"
   ]
  },
  {
   "cell_type": "code",
   "execution_count": 39,
   "metadata": {},
   "outputs": [],
   "source": [
    "office = office[(office['Duration'] > '0 days 00:01:00')]"
   ]
  },
  {
   "cell_type": "code",
   "execution_count": 40,
   "metadata": {},
   "outputs": [
    {
     "data": {
      "text/html": [
       "<div>\n",
       "<style scoped>\n",
       "    .dataframe tbody tr th:only-of-type {\n",
       "        vertical-align: middle;\n",
       "    }\n",
       "\n",
       "    .dataframe tbody tr th {\n",
       "        vertical-align: top;\n",
       "    }\n",
       "\n",
       "    .dataframe thead th {\n",
       "        text-align: right;\n",
       "    }\n",
       "</style>\n",
       "<table border=\"1\" class=\"dataframe\">\n",
       "  <thead>\n",
       "    <tr style=\"text-align: right;\">\n",
       "      <th></th>\n",
       "      <th>Start Time</th>\n",
       "      <th>Duration</th>\n",
       "      <th>Title</th>\n",
       "    </tr>\n",
       "  </thead>\n",
       "  <tbody>\n",
       "    <tr>\n",
       "      <th>10</th>\n",
       "      <td>2013-03-19 04:34:22+05:30</td>\n",
       "      <td>0 days 00:21:07</td>\n",
       "      <td>The Office (U.S.): Season 5: Moroccan Christma...</td>\n",
       "    </tr>\n",
       "    <tr>\n",
       "      <th>11</th>\n",
       "      <td>2013-03-19 04:12:50+05:30</td>\n",
       "      <td>0 days 00:21:30</td>\n",
       "      <td>The Office (U.S.): Season 5: The Surplus (Epis...</td>\n",
       "    </tr>\n",
       "    <tr>\n",
       "      <th>12</th>\n",
       "      <td>2013-03-19 03:51:52+05:30</td>\n",
       "      <td>0 days 00:20:55</td>\n",
       "      <td>The Office (U.S.): Season 5: Frame Toby (Episo...</td>\n",
       "    </tr>\n",
       "    <tr>\n",
       "      <th>14</th>\n",
       "      <td>2013-03-19 01:59:22+05:30</td>\n",
       "      <td>0 days 00:20:15</td>\n",
       "      <td>The Office (U.S.): Season 5: Business Trip (Ep...</td>\n",
       "    </tr>\n",
       "    <tr>\n",
       "      <th>15</th>\n",
       "      <td>2013-03-19 01:37:57+05:30</td>\n",
       "      <td>0 days 00:21:21</td>\n",
       "      <td>The Office (U.S.): Season 5: Customer Survey (...</td>\n",
       "    </tr>\n",
       "    <tr>\n",
       "      <th>...</th>\n",
       "      <td>...</td>\n",
       "      <td>...</td>\n",
       "      <td>...</td>\n",
       "    </tr>\n",
       "    <tr>\n",
       "      <th>151</th>\n",
       "      <td>2013-03-09 08:06:40+05:30</td>\n",
       "      <td>0 days 00:21:43</td>\n",
       "      <td>The Office (U.S.): Season 7: Sex Ed (Episode 4)</td>\n",
       "    </tr>\n",
       "    <tr>\n",
       "      <th>153</th>\n",
       "      <td>2013-03-09 06:22:42+05:30</td>\n",
       "      <td>0 days 00:20:44</td>\n",
       "      <td>The Office (U.S.): Season 7: Andy's Play (Epis...</td>\n",
       "    </tr>\n",
       "    <tr>\n",
       "      <th>154</th>\n",
       "      <td>2013-03-09 05:59:16+05:30</td>\n",
       "      <td>0 days 00:21:48</td>\n",
       "      <td>The Office (U.S.): Season 7: Counseling (Episo...</td>\n",
       "    </tr>\n",
       "    <tr>\n",
       "      <th>155</th>\n",
       "      <td>2013-03-09 05:15:38+05:30</td>\n",
       "      <td>0 days 00:21:48</td>\n",
       "      <td>The Office (U.S.): Season 7: Nepotism (Episode 1)</td>\n",
       "    </tr>\n",
       "    <tr>\n",
       "      <th>156</th>\n",
       "      <td>2013-03-09 04:53:26+05:30</td>\n",
       "      <td>0 days 00:21:12</td>\n",
       "      <td>The Office (U.S.): Season 5: The Duel (Episode...</td>\n",
       "    </tr>\n",
       "  </tbody>\n",
       "</table>\n",
       "<p>130 rows × 3 columns</p>\n",
       "</div>"
      ],
      "text/plain": [
       "                   Start Time        Duration  \\\n",
       "10  2013-03-19 04:34:22+05:30 0 days 00:21:07   \n",
       "11  2013-03-19 04:12:50+05:30 0 days 00:21:30   \n",
       "12  2013-03-19 03:51:52+05:30 0 days 00:20:55   \n",
       "14  2013-03-19 01:59:22+05:30 0 days 00:20:15   \n",
       "15  2013-03-19 01:37:57+05:30 0 days 00:21:21   \n",
       "..                        ...             ...   \n",
       "151 2013-03-09 08:06:40+05:30 0 days 00:21:43   \n",
       "153 2013-03-09 06:22:42+05:30 0 days 00:20:44   \n",
       "154 2013-03-09 05:59:16+05:30 0 days 00:21:48   \n",
       "155 2013-03-09 05:15:38+05:30 0 days 00:21:48   \n",
       "156 2013-03-09 04:53:26+05:30 0 days 00:21:12   \n",
       "\n",
       "                                                 Title  \n",
       "10   The Office (U.S.): Season 5: Moroccan Christma...  \n",
       "11   The Office (U.S.): Season 5: The Surplus (Epis...  \n",
       "12   The Office (U.S.): Season 5: Frame Toby (Episo...  \n",
       "14   The Office (U.S.): Season 5: Business Trip (Ep...  \n",
       "15   The Office (U.S.): Season 5: Customer Survey (...  \n",
       "..                                                 ...  \n",
       "151    The Office (U.S.): Season 7: Sex Ed (Episode 4)  \n",
       "153  The Office (U.S.): Season 7: Andy's Play (Epis...  \n",
       "154  The Office (U.S.): Season 7: Counseling (Episo...  \n",
       "155  The Office (U.S.): Season 7: Nepotism (Episode 1)  \n",
       "156  The Office (U.S.): Season 5: The Duel (Episode...  \n",
       "\n",
       "[130 rows x 3 columns]"
      ]
     },
     "execution_count": 40,
     "metadata": {},
     "output_type": "execute_result"
    }
   ],
   "source": [
    "office"
   ]
  },
  {
   "cell_type": "code",
   "execution_count": 41,
   "metadata": {},
   "outputs": [
    {
     "data": {
      "text/plain": [
       "Timedelta('1 days 14:57:28')"
      ]
     },
     "execution_count": 41,
     "metadata": {},
     "output_type": "execute_result"
    }
   ],
   "source": [
    "office['Duration'].sum()"
   ]
  },
  {
   "cell_type": "code",
   "execution_count": 42,
   "metadata": {},
   "outputs": [
    {
     "name": "stderr",
     "output_type": "stream",
     "text": [
      "<ipython-input-42-942f205b98fb>:1: SettingWithCopyWarning: \n",
      "A value is trying to be set on a copy of a slice from a DataFrame.\n",
      "Try using .loc[row_indexer,col_indexer] = value instead\n",
      "\n",
      "See the caveats in the documentation: https://pandas.pydata.org/pandas-docs/stable/user_guide/indexing.html#returning-a-view-versus-a-copy\n",
      "  office['weekday'] = office['Start Time'].dt.weekday\n",
      "<ipython-input-42-942f205b98fb>:2: SettingWithCopyWarning: \n",
      "A value is trying to be set on a copy of a slice from a DataFrame.\n",
      "Try using .loc[row_indexer,col_indexer] = value instead\n",
      "\n",
      "See the caveats in the documentation: https://pandas.pydata.org/pandas-docs/stable/user_guide/indexing.html#returning-a-view-versus-a-copy\n",
      "  office['hour'] = office['Start Time'].dt.hour\n"
     ]
    }
   ],
   "source": [
    "office['weekday'] = office['Start Time'].dt.weekday\n",
    "office['hour'] = office['Start Time'].dt.hour"
   ]
  },
  {
   "cell_type": "code",
   "execution_count": 43,
   "metadata": {},
   "outputs": [
    {
     "data": {
      "text/html": [
       "<div>\n",
       "<style scoped>\n",
       "    .dataframe tbody tr th:only-of-type {\n",
       "        vertical-align: middle;\n",
       "    }\n",
       "\n",
       "    .dataframe tbody tr th {\n",
       "        vertical-align: top;\n",
       "    }\n",
       "\n",
       "    .dataframe thead th {\n",
       "        text-align: right;\n",
       "    }\n",
       "</style>\n",
       "<table border=\"1\" class=\"dataframe\">\n",
       "  <thead>\n",
       "    <tr style=\"text-align: right;\">\n",
       "      <th></th>\n",
       "      <th>Start Time</th>\n",
       "      <th>Duration</th>\n",
       "      <th>Title</th>\n",
       "      <th>weekday</th>\n",
       "      <th>hour</th>\n",
       "    </tr>\n",
       "  </thead>\n",
       "  <tbody>\n",
       "    <tr>\n",
       "      <th>10</th>\n",
       "      <td>2013-03-19 04:34:22+05:30</td>\n",
       "      <td>0 days 00:21:07</td>\n",
       "      <td>The Office (U.S.): Season 5: Moroccan Christma...</td>\n",
       "      <td>1</td>\n",
       "      <td>4</td>\n",
       "    </tr>\n",
       "    <tr>\n",
       "      <th>11</th>\n",
       "      <td>2013-03-19 04:12:50+05:30</td>\n",
       "      <td>0 days 00:21:30</td>\n",
       "      <td>The Office (U.S.): Season 5: The Surplus (Epis...</td>\n",
       "      <td>1</td>\n",
       "      <td>4</td>\n",
       "    </tr>\n",
       "    <tr>\n",
       "      <th>12</th>\n",
       "      <td>2013-03-19 03:51:52+05:30</td>\n",
       "      <td>0 days 00:20:55</td>\n",
       "      <td>The Office (U.S.): Season 5: Frame Toby (Episo...</td>\n",
       "      <td>1</td>\n",
       "      <td>3</td>\n",
       "    </tr>\n",
       "    <tr>\n",
       "      <th>14</th>\n",
       "      <td>2013-03-19 01:59:22+05:30</td>\n",
       "      <td>0 days 00:20:15</td>\n",
       "      <td>The Office (U.S.): Season 5: Business Trip (Ep...</td>\n",
       "      <td>1</td>\n",
       "      <td>1</td>\n",
       "    </tr>\n",
       "    <tr>\n",
       "      <th>15</th>\n",
       "      <td>2013-03-19 01:37:57+05:30</td>\n",
       "      <td>0 days 00:21:21</td>\n",
       "      <td>The Office (U.S.): Season 5: Customer Survey (...</td>\n",
       "      <td>1</td>\n",
       "      <td>1</td>\n",
       "    </tr>\n",
       "    <tr>\n",
       "      <th>...</th>\n",
       "      <td>...</td>\n",
       "      <td>...</td>\n",
       "      <td>...</td>\n",
       "      <td>...</td>\n",
       "      <td>...</td>\n",
       "    </tr>\n",
       "    <tr>\n",
       "      <th>151</th>\n",
       "      <td>2013-03-09 08:06:40+05:30</td>\n",
       "      <td>0 days 00:21:43</td>\n",
       "      <td>The Office (U.S.): Season 7: Sex Ed (Episode 4)</td>\n",
       "      <td>5</td>\n",
       "      <td>8</td>\n",
       "    </tr>\n",
       "    <tr>\n",
       "      <th>153</th>\n",
       "      <td>2013-03-09 06:22:42+05:30</td>\n",
       "      <td>0 days 00:20:44</td>\n",
       "      <td>The Office (U.S.): Season 7: Andy's Play (Epis...</td>\n",
       "      <td>5</td>\n",
       "      <td>6</td>\n",
       "    </tr>\n",
       "    <tr>\n",
       "      <th>154</th>\n",
       "      <td>2013-03-09 05:59:16+05:30</td>\n",
       "      <td>0 days 00:21:48</td>\n",
       "      <td>The Office (U.S.): Season 7: Counseling (Episo...</td>\n",
       "      <td>5</td>\n",
       "      <td>5</td>\n",
       "    </tr>\n",
       "    <tr>\n",
       "      <th>155</th>\n",
       "      <td>2013-03-09 05:15:38+05:30</td>\n",
       "      <td>0 days 00:21:48</td>\n",
       "      <td>The Office (U.S.): Season 7: Nepotism (Episode 1)</td>\n",
       "      <td>5</td>\n",
       "      <td>5</td>\n",
       "    </tr>\n",
       "    <tr>\n",
       "      <th>156</th>\n",
       "      <td>2013-03-09 04:53:26+05:30</td>\n",
       "      <td>0 days 00:21:12</td>\n",
       "      <td>The Office (U.S.): Season 5: The Duel (Episode...</td>\n",
       "      <td>5</td>\n",
       "      <td>4</td>\n",
       "    </tr>\n",
       "  </tbody>\n",
       "</table>\n",
       "<p>130 rows × 5 columns</p>\n",
       "</div>"
      ],
      "text/plain": [
       "                   Start Time        Duration  \\\n",
       "10  2013-03-19 04:34:22+05:30 0 days 00:21:07   \n",
       "11  2013-03-19 04:12:50+05:30 0 days 00:21:30   \n",
       "12  2013-03-19 03:51:52+05:30 0 days 00:20:55   \n",
       "14  2013-03-19 01:59:22+05:30 0 days 00:20:15   \n",
       "15  2013-03-19 01:37:57+05:30 0 days 00:21:21   \n",
       "..                        ...             ...   \n",
       "151 2013-03-09 08:06:40+05:30 0 days 00:21:43   \n",
       "153 2013-03-09 06:22:42+05:30 0 days 00:20:44   \n",
       "154 2013-03-09 05:59:16+05:30 0 days 00:21:48   \n",
       "155 2013-03-09 05:15:38+05:30 0 days 00:21:48   \n",
       "156 2013-03-09 04:53:26+05:30 0 days 00:21:12   \n",
       "\n",
       "                                                 Title  weekday  hour  \n",
       "10   The Office (U.S.): Season 5: Moroccan Christma...        1     4  \n",
       "11   The Office (U.S.): Season 5: The Surplus (Epis...        1     4  \n",
       "12   The Office (U.S.): Season 5: Frame Toby (Episo...        1     3  \n",
       "14   The Office (U.S.): Season 5: Business Trip (Ep...        1     1  \n",
       "15   The Office (U.S.): Season 5: Customer Survey (...        1     1  \n",
       "..                                                 ...      ...   ...  \n",
       "151    The Office (U.S.): Season 7: Sex Ed (Episode 4)        5     8  \n",
       "153  The Office (U.S.): Season 7: Andy's Play (Epis...        5     6  \n",
       "154  The Office (U.S.): Season 7: Counseling (Episo...        5     5  \n",
       "155  The Office (U.S.): Season 7: Nepotism (Episode 1)        5     5  \n",
       "156  The Office (U.S.): Season 5: The Duel (Episode...        5     4  \n",
       "\n",
       "[130 rows x 5 columns]"
      ]
     },
     "execution_count": 43,
     "metadata": {},
     "output_type": "execute_result"
    }
   ],
   "source": [
    "office"
   ]
  },
  {
   "cell_type": "code",
   "execution_count": 44,
   "metadata": {},
   "outputs": [],
   "source": [
    "import matplotlib"
   ]
  },
  {
   "cell_type": "code",
   "execution_count": 45,
   "metadata": {},
   "outputs": [
    {
     "name": "stderr",
     "output_type": "stream",
     "text": [
      "<ipython-input-45-30d9e03bdb11>:1: SettingWithCopyWarning: \n",
      "A value is trying to be set on a copy of a slice from a DataFrame.\n",
      "Try using .loc[row_indexer,col_indexer] = value instead\n",
      "\n",
      "See the caveats in the documentation: https://pandas.pydata.org/pandas-docs/stable/user_guide/indexing.html#returning-a-view-versus-a-copy\n",
      "  office['weekday'] = pd.Categorical(office['weekday'], categories=[0,1,2,3,4,5,6],ordered=True)\n"
     ]
    },
    {
     "data": {
      "text/plain": [
       "<AxesSubplot:title={'center':'Office Episodes Watched by Day'}>"
      ]
     },
     "execution_count": 45,
     "metadata": {},
     "output_type": "execute_result"
    },
    {
     "data": {
      "image/png": "[encoded data removed]",
      "text/plain": [
       "<Figure size 1440x720 with 1 Axes>"
      ]
     },
     "metadata": {
      "needs_background": "light"
     },
     "output_type": "display_data"
    }
   ],
   "source": [
    "office['weekday'] = pd.Categorical(office['weekday'], categories=[0,1,2,3,4,5,6],ordered=True)\n",
    "office_by_day = office['weekday'].value_counts()\n",
    "office_by_day = office_by_day.sort_index()\n",
    "matplotlib.rcParams.update({'font.size': 22})\n",
    "office_by_day.plot(kind='bar', figsize=(20,10), title='Office Episodes Watched by Day')"
   ]
  },
  {
   "cell_type": "code",
   "execution_count": 46,
   "metadata": {},
   "outputs": [
    {
     "name": "stderr",
     "output_type": "stream",
     "text": [
      "<ipython-input-46-9f8228941f19>:1: SettingWithCopyWarning: \n",
      "A value is trying to be set on a copy of a slice from a DataFrame.\n",
      "Try using .loc[row_indexer,col_indexer] = value instead\n",
      "\n",
      "See the caveats in the documentation: https://pandas.pydata.org/pandas-docs/stable/user_guide/indexing.html#returning-a-view-versus-a-copy\n",
      "  office['hour'] = pd.Categorical(office['hour'], categories=[0,1,2,3,4,5,6,7,8,9,10,11,12,13,14,15,16,17,18,19,20,21,22,23],ordered=True)\n"
     ]
    },
    {
     "data": {
      "text/plain": [
       "<AxesSubplot:title={'center':'Office Episodes Watched by Hour'}>"
      ]
     },
     "execution_count": 46,
     "metadata": {},
     "output_type": "execute_result"
    },
    {
     "data": {
      "image/png": "[encoded data removed]",
      "text/plain": [
       "<Figure size 1440x720 with 1 Axes>"
      ]
     },
     "metadata": {
      "needs_background": "light"
     },
     "output_type": "display_data"
    }
   ],
   "source": [
    "office['hour'] = pd.Categorical(office['hour'], categories=[0,1,2,3,4,5,6,7,8,9,10,11,12,13,14,15,16,17,18,19,20,21,22,23],ordered=True)\n",
    "office_by_hour = office['hour'].value_counts()\n",
    "office_by_hour = office_by_hour.sort_index()\n",
    "office_by_hour.plot(kind='bar', figsize=(20,10), title='Office Episodes Watched by Hour')"
   ]
  },
  {
   "cell_type": "code",
   "execution_count": null,
   "metadata": {},
   "outputs": [],
   "source": []
  }
 ],
 "metadata": {
  "kernelspec": {
   "display_name": "Python 3",
   "language": "python",
   "name": "python3"
  },
  "language_info": {
   "codemirror_mode": {
    "name": "ipython",
    "version": 3
   },
   "file_extension": ".py",
   "mimetype": "text/x-python",
   "name": "python",
   "nbconvert_exporter": "python",
   "pygments_lexer": "ipython3",
   "version": "3.8.8"
  }
 },
 "nbformat": 4,
 "nbformat_minor": 2
}
